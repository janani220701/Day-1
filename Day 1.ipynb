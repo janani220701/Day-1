{
 "cells": [
  {
   "cell_type": "code",
   "execution_count": 1,
   "id": "6bed05c9-6d61-483a-951e-1684ef11181b",
   "metadata": {},
   "outputs": [
    {
     "name": "stdout",
     "output_type": "stream",
     "text": [
      "gfdtghd\n"
     ]
    }
   ],
   "source": [
    "print(\"gfdtghd\")"
   ]
  },
  {
   "cell_type": "code",
   "execution_count": 3,
   "id": "1a79edef-ed44-4ef6-af82-59bb1bfa5afe",
   "metadata": {},
   "outputs": [
    {
     "data": {
      "text/plain": [
       "'3.12.7 | packaged by Anaconda, Inc. | (main, Oct  4 2024, 13:17:27) [MSC v.1929 64 bit (AMD64)]'"
      ]
     },
     "execution_count": 3,
     "metadata": {},
     "output_type": "execute_result"
    }
   ],
   "source": [
    "import sys\n",
    "sys.version"
   ]
  },
  {
   "cell_type": "code",
   "execution_count": 7,
   "id": "d590824d-2c99-4eda-9d72-cf8db713ef89",
   "metadata": {},
   "outputs": [
    {
     "ename": "NameError",
     "evalue": "name 'a' is not defined",
     "output_type": "error",
     "traceback": [
      "\u001b[1;31m---------------------------------------------------------------------------\u001b[0m",
      "\u001b[1;31mNameError\u001b[0m                                 Traceback (most recent call last)",
      "Cell \u001b[1;32mIn[7], line 5\u001b[0m\n\u001b[0;32m      1\u001b[0m \u001b[38;5;66;03m#using we can comment signal line ex:\u001b[39;00m\n\u001b[0;32m      2\u001b[0m \n\u001b[0;32m      3\u001b[0m \u001b[38;5;66;03m#a=5\u001b[39;00m\n\u001b[0;32m      4\u001b[0m b\u001b[38;5;241m=\u001b[39m\u001b[38;5;241m10\u001b[39m\n\u001b[1;32m----> 5\u001b[0m \u001b[38;5;28mprint\u001b[39m(a)\n",
      "\u001b[1;31mNameError\u001b[0m: name 'a' is not defined"
     ]
    }
   ],
   "source": [
    "#using we can comment signal line ex:\n",
    "\n",
    "#a=5\n",
    "b=10\n",
    "print(a)"
   ]
  },
  {
   "cell_type": "code",
   "execution_count": 9,
   "id": "e18664d2-87fd-4eea-82af-a94cedb3e1e8",
   "metadata": {},
   "outputs": [
    {
     "data": {
      "text/plain": [
       "'a=5\\nb=10\\nprint(a+b)'"
      ]
     },
     "execution_count": 9,
     "metadata": {},
     "output_type": "execute_result"
    }
   ],
   "source": [
    "#using ''' we can comment multiline ex:\n",
    "\n",
    "'''a=5\n",
    "b=10\n",
    "print(a+b)'''"
   ]
  },
  {
   "cell_type": "code",
   "execution_count": 11,
   "id": "ead3d348-81e9-4b31-98ff-84ace9df1494",
   "metadata": {},
   "outputs": [],
   "source": [
    "number = 1\n",
    "num_ber = 1\n",
    "_num_brt =1\n",
    "nuMbEr =1\n",
    "NUMBER =1\n",
    "NUMBER =1"
   ]
  },
  {
   "cell_type": "code",
   "execution_count": 13,
   "id": "2a596aa8-449a-4f7c-9953-c46a92d91822",
   "metadata": {},
   "outputs": [
    {
     "ename": "SyntaxError",
     "evalue": "invalid decimal literal (2236074312.py, line 1)",
     "output_type": "error",
     "traceback": [
      "\u001b[1;36m  Cell \u001b[1;32mIn[13], line 1\u001b[1;36m\u001b[0m\n\u001b[1;33m    1number =1\u001b[0m\n\u001b[1;37m    ^\u001b[0m\n\u001b[1;31mSyntaxError\u001b[0m\u001b[1;31m:\u001b[0m invalid decimal literal\n"
     ]
    }
   ],
   "source": [
    "1number =1\n",
    "num-ber =1\n",
    "my var =1"
   ]
  },
  {
   "cell_type": "code",
   "execution_count": 15,
   "id": "86be7e53-7b1f-4779-a293-aaa7b7b55b18",
   "metadata": {},
   "outputs": [
    {
     "data": {
      "text/plain": [
       "'orange'"
      ]
     },
     "execution_count": 15,
     "metadata": {},
     "output_type": "execute_result"
    }
   ],
   "source": [
    "k=l=m=\"orange\"\n",
    "l"
   ]
  },
  {
   "cell_type": "code",
   "execution_count": 17,
   "id": "eabd205e-bcbb-4f45-910e-a81c71f19c68",
   "metadata": {},
   "outputs": [
    {
     "data": {
      "text/plain": [
       "'apple'"
      ]
     },
     "execution_count": 17,
     "metadata": {},
     "output_type": "execute_result"
    }
   ],
   "source": [
    "k,l,m=\"orange\",\"apple\",\"grapes\"\n",
    "l"
   ]
  },
  {
   "cell_type": "code",
   "execution_count": 21,
   "id": "3a56fd50-e753-428f-805e-183a515ffc21",
   "metadata": {},
   "outputs": [
    {
     "name": "stdout",
     "output_type": "stream",
     "text": [
      "567\n"
     ]
    }
   ],
   "source": [
    "k=110\n",
    "l=457\n",
    "print(k+l)"
   ]
  },
  {
   "cell_type": "code",
   "execution_count": 1,
   "id": "eb10e6fc-e1d5-4e14-9042-ebe45f83dd56",
   "metadata": {},
   "outputs": [
    {
     "data": {
      "text/plain": [
       "5"
      ]
     },
     "execution_count": 1,
     "metadata": {},
     "output_type": "execute_result"
    }
   ],
   "source": [
    "k=5\n",
    "k"
   ]
  },
  {
   "cell_type": "code",
   "execution_count": null,
   "id": "360685cb-4b73-4a66-81e8-21ab48deeddf",
   "metadata": {},
   "outputs": [],
   "source": []
  }
 ],
 "metadata": {
  "kernelspec": {
   "display_name": "Python [conda env:base] *",
   "language": "python",
   "name": "conda-base-py"
  },
  "language_info": {
   "codemirror_mode": {
    "name": "ipython",
    "version": 3
   },
   "file_extension": ".py",
   "mimetype": "text/x-python",
   "name": "python",
   "nbconvert_exporter": "python",
   "pygments_lexer": "ipython3",
   "version": "3.12.7"
  }
 },
 "nbformat": 4,
 "nbformat_minor": 5
}
