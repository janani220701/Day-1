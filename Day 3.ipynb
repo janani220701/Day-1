{
 "cells": [
  {
   "cell_type": "code",
   "execution_count": 1,
   "id": "b441ca30-8a39-4e91-a866-620c441afa0f",
   "metadata": {},
   "outputs": [
    {
     "name": "stdout",
     "output_type": "stream",
     "text": [
      "welcome, hello how are you\n"
     ]
    }
   ],
   "source": [
    "k = \"welcome, hello how are you\"\n",
    "print(k.replace(\"hi\", \"ok\"))"
   ]
  },
  {
   "cell_type": "code",
   "execution_count": 11,
   "id": "38aa4e14-c782-438b-b0d8-a9900f2b1f24",
   "metadata": {},
   "outputs": [
    {
     "name": "stdout",
     "output_type": "stream",
     "text": [
      "be the change you wish to see in the world\n"
     ]
    }
   ],
   "source": [
    "k=\"Be tHe Change you wish to see in the world\"\n",
    "x = k.casefold()\n",
    "\n",
    "print(x)\n"
   ]
  },
  {
   "cell_type": "code",
   "execution_count": 13,
   "id": "35bacba1-e86f-442b-a943-d341750b1539",
   "metadata": {},
   "outputs": [
    {
     "name": "stdout",
     "output_type": "stream",
     "text": [
      "i am a devil of my life\n"
     ]
    }
   ],
   "source": [
    "k=\"I am a devil of my life\"\n",
    "x=k.casefold()\n",
    "\n",
    "print(x)\n"
   ]
  },
  {
   "cell_type": "code",
   "execution_count": 23,
   "id": "ee92f109-3c23-4233-973b-2ec03201df8d",
   "metadata": {},
   "outputs": [
    {
     "name": "stdout",
     "output_type": "stream",
     "text": [
      "strabe\n",
      "strabe\n"
     ]
    }
   ],
   "source": [
    "s1 = \"StraBe\"\n",
    "#s2 = \"STRASSE\"\n",
    "\n",
    "print(s1.lower())\n",
    "print(s1.casefold())"
   ]
  },
  {
   "cell_type": "code",
   "execution_count": 25,
   "id": "2d917407-3a88-48cd-99fa-5e6694c5a979",
   "metadata": {},
   "outputs": [
    {
     "name": "stdout",
     "output_type": "stream",
     "text": [
      "straße\n",
      "strasse\n"
     ]
    }
   ],
   "source": [
    "s1 = \"Straße\"\n",
    "#s2 = \"STRASSE\"\n",
    "\n",
    "print(s1.lower())\n",
    "print(s1.casefold())"
   ]
  },
  {
   "cell_type": "code",
   "execution_count": 31,
   "id": "731fa8d1-dc62-47fe-8ee1-a4188e01df5c",
   "metadata": {},
   "outputs": [
    {
     "name": "stdout",
     "output_type": "stream",
     "text": [
      "straße\n"
     ]
    },
    {
     "ename": "NameError",
     "evalue": "name 'sl' is not defined",
     "output_type": "error",
     "traceback": [
      "\u001b[1;31m---------------------------------------------------------------------------\u001b[0m",
      "\u001b[1;31mNameError\u001b[0m                                 Traceback (most recent call last)",
      "Cell \u001b[1;32mIn[31], line 5\u001b[0m\n\u001b[0;32m      2\u001b[0m \u001b[38;5;66;03m#s2 = \"STRASSE\"\u001b[39;00m\n\u001b[0;32m      4\u001b[0m \u001b[38;5;28mprint\u001b[39m(s1\u001b[38;5;241m.\u001b[39mlower())\n\u001b[1;32m----> 5\u001b[0m \u001b[38;5;28mprint\u001b[39m(sl\u001b[38;5;241m.\u001b[39mcasefold())\n",
      "\u001b[1;31mNameError\u001b[0m: name 'sl' is not defined"
     ]
    }
   ],
   "source": [
    "s1 = \"Straße\"\n",
    "#s2 = \"STRASSE\"\n",
    "\n",
    "print(s1.lower())\n",
    "print(sl.casefold())"
   ]
  },
  {
   "cell_type": "code",
   "execution_count": 35,
   "id": "9bc0c256-ef48-48d6-bd10-0e6468d038b6",
   "metadata": {},
   "outputs": [
    {
     "name": "stdout",
     "output_type": "stream",
     "text": [
      "    hi    \n",
      "2\n",
      "10\n"
     ]
    }
   ],
   "source": [
    "k = \"hi\"\n",
    "\n",
    "x=k.center(10)\n",
    "\n",
    "print(x)\n",
    "print(len(k))\n",
    "print(len(x))"
   ]
  },
  {
   "cell_type": "code",
   "execution_count": 41,
   "id": "225d3a12-07ee-45f6-83ee-4d5ac1275f76",
   "metadata": {},
   "outputs": [
    {
     "name": "stdout",
     "output_type": "stream",
     "text": [
      "1\n"
     ]
    }
   ],
   "source": [
    "k=\"I am devil of my life\"\n",
    "\n",
    "x = k.count(\"of\")\n",
    "\n",
    "print(x)"
   ]
  },
  {
   "cell_type": "code",
   "execution_count": 43,
   "id": "0c23a982-bee5-45de-bc5a-bead4031615d",
   "metadata": {},
   "outputs": [
    {
     "name": "stdout",
     "output_type": "stream",
     "text": [
      "12\n"
     ]
    }
   ],
   "source": [
    "txt = \"Hi, welcome to my life.\"\n",
    "\n",
    "x = txt.index(\"to\")\n",
    "\n",
    "print(x)"
   ]
  },
  {
   "cell_type": "code",
   "execution_count": 53,
   "id": "2effbafa-3245-45dc-8a8f-fb420c82dcf8",
   "metadata": {},
   "outputs": [
    {
     "name": "stdout",
     "output_type": "stream",
     "text": [
      "True\n",
      "False\n"
     ]
    }
   ],
   "source": [
    "k = \"Hi, welcome to my life.\"\n",
    "\n",
    "x = k.startswith(\"H\")\n",
    "y = k.endswith(\"e\")\n",
    "\n",
    "print(x)\n",
    "print(y)"
   ]
  },
  {
   "cell_type": "code",
   "execution_count": 51,
   "id": "1f221655-0ac4-4174-be00-acbba650f7f6",
   "metadata": {},
   "outputs": [
    {
     "name": "stdout",
     "output_type": "stream",
     "text": [
      "True\n",
      "False\n"
     ]
    }
   ],
   "source": [
    "k = \"Hello, welcome to my world.\"\n",
    "\n",
    "x = k.startswith(\"H\")\n",
    "y = k.endswith(\"d\")\n",
    "\n",
    "print(x)\n",
    "print(y)"
   ]
  },
  {
   "cell_type": "code",
   "execution_count": 55,
   "id": "943a9d01-898d-4dc3-947b-ed6a566c3c29",
   "metadata": {},
   "outputs": [
    {
     "name": "stdout",
     "output_type": "stream",
     "text": [
      "bE THE CHANGE YOU WISH TO SEE IN THE LIFE\n"
     ]
    }
   ],
   "source": [
    "k=\"Be the change you wish to see in the life\"\n",
    "\n",
    "x = k.swapcase()\n",
    "\n",
    "print(x)"
   ]
  },
  {
   "cell_type": "code",
   "execution_count": 57,
   "id": "331dc08a-1396-4f2c-a1ea-aa4a35feb913",
   "metadata": {},
   "outputs": [
    {
     "name": "stdout",
     "output_type": "stream",
     "text": [
      "True\n"
     ]
    }
   ],
   "source": [
    "k = \"565543\"\n",
    "\n",
    "x = k.isnumeric()\n",
    "\n",
    "print(x)"
   ]
  },
  {
   "cell_type": "code",
   "execution_count": 59,
   "id": "26454cd7-209b-4721-8436-7a99d0f0b6df",
   "metadata": {},
   "outputs": [
    {
     "name": "stdout",
     "output_type": "stream",
     "text": [
      "False\n"
     ]
    }
   ],
   "source": [
    "k = \" orange \"\n",
    "\n",
    "x = k.isalpha()\n",
    "\n",
    "print(x)"
   ]
  },
  {
   "cell_type": "code",
   "execution_count": null,
   "id": "476cf245-2c78-469d-9c18-85c8d6caae62",
   "metadata": {},
   "outputs": [],
   "source": []
  }
 ],
 "metadata": {
  "kernelspec": {
   "display_name": "Python [conda env:base] *",
   "language": "python",
   "name": "conda-base-py"
  },
  "language_info": {
   "codemirror_mode": {
    "name": "ipython",
    "version": 3
   },
   "file_extension": ".py",
   "mimetype": "text/x-python",
   "name": "python",
   "nbconvert_exporter": "python",
   "pygments_lexer": "ipython3",
   "version": "3.12.7"
  }
 },
 "nbformat": 4,
 "nbformat_minor": 5
}
